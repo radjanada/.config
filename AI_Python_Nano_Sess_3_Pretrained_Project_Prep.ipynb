{
  "nbformat": 4,
  "nbformat_minor": 0,
  "metadata": {
    "colab": {
      "provenance": [],
      "collapsed_sections": [],
      "include_colab_link": true
    },
    "kernelspec": {
      "name": "python3",
      "display_name": "Python 3"
    },
    "language_info": {
      "name": "python"
    }
  },
  "cells": [
    {
      "cell_type": "markdown",
      "metadata": {
        "id": "view-in-github",
        "colab_type": "text"
      },
      "source": [
        "<a href=\"https://colab.research.google.com/github/radjanada/.config/blob/main/AI_Python_Nano_Sess_3_Pretrained_Project_Prep.ipynb\" target=\"_parent\"><img src=\"https://colab.research.google.com/assets/colab-badge.svg\" alt=\"Open In Colab\"/></a>"
      ]
    },
    {
      "cell_type": "markdown",
      "metadata": {
        "id": "sgQ43zuNmtMR"
      },
      "source": [
        "This project requires a group of varuing skills that we will practice individually here.\n",
        "\n",
        "\n",
        "*   Lists and appending\n",
        "*   Dictionaries and Iterating over them\n",
        "*   Passing data structures to functions\n",
        "*   Argparse (adding arguments from the command line)\n",
        "\n",
        "\n",
        "\n"
      ]
    },
    {
      "cell_type": "code",
      "source": [
        "type(@)"
      ],
      "metadata": {
        "colab": {
          "base_uri": "https://localhost:8080/",
          "height": 133
        },
        "id": "8CoFyz84mMv7",
        "outputId": "d25096b8-8426-41de-ee4c-98efd6ea53e5"
      },
      "execution_count": 26,
      "outputs": [
        {
          "output_type": "error",
          "ename": "SyntaxError",
          "evalue": "ignored",
          "traceback": [
            "\u001b[0;36m  File \u001b[0;32m\"<ipython-input-26-d3e3903e380e>\"\u001b[0;36m, line \u001b[0;32m1\u001b[0m\n\u001b[0;31m    type(@)\u001b[0m\n\u001b[0m         ^\u001b[0m\n\u001b[0;31mSyntaxError\u001b[0m\u001b[0;31m:\u001b[0m invalid syntax\n"
          ]
        }
      ]
    },
    {
      "cell_type": "code",
      "source": [
        "## Task 1: Create a list where a user can append their name to using input()\n",
        "## Add at least 5 names\n",
        "\n",
        "list_of_names = [\"joseph\", \"shubham\", \"mizra\", \"sara\", \"trish\"]\n",
        "\n",
        "### ANSWER:\n",
        "\n",
        "# Get input from user\n",
        "name = input(\"Enter a name :\")\n",
        "\n",
        "# Append input to list \n",
        "list_of_names.append(name.lower())\n",
        "\n",
        "# Add a check to see if input is a string\n",
        "if type(name) == str:\n",
        "  print(\"The input is a string\")\n",
        "# Make the input all lowercase\n",
        "# Optional: Keep appending inputs from users until \"exit\" is entered\n",
        "# Optional: Only accept alphabetical characters(no numbers, special characters (!@#$)) \n",
        "while name != \"exit\" and name.isalpha():\n",
        "    name = input(\"Enter a name :\")\n",
        "    list_of_names.append(name.lower())\n",
        "print(list_of_names[:-1])\n"
      ],
      "metadata": {
        "id": "QWWKq_j4mKTX",
        "colab": {
          "base_uri": "https://localhost:8080/"
        },
        "outputId": "a3efbddc-b945-4c52-9bb6-60bea7191fbd"
      },
      "execution_count": 61,
      "outputs": [
        {
          "output_type": "stream",
          "name": "stdout",
          "text": [
            "Enter a name :RACHA\n",
            "The input is a string\n",
            "Enter a name :LOULOU\n",
            "Enter a name :KOKA\n",
            "Enter a name :!\n",
            "['joseph', 'shubham', 'mizra', 'sara', 'trish', 'racha', 'loulou', 'koka']\n"
          ]
        }
      ]
    },
    {
      "cell_type": "code",
      "source": [
        "## Task 2: Playing with dictionaries\n",
        "\n",
        "## Task 2.1: Create a dictionary from the list_of_names, assigning a random age as a value\n",
        "family = {\"joseph\":60, \"shubham\":19, \"mizra\":52, \"sara\":23, \"trish\":37}\n",
        "family_age_profession={60:\"author\", 19:\"student\",52:\"doctor\",23:\"nurse\",37:\"engineer\"}\n",
        "## Task 2.2: Calculate the sum of all the ages in the dictionary\n",
        "print(\"The sum of all the ages in the dictionary is:\", sum(family.values()))\n",
        "\n",
        "## Task 2.3 (Optional): Replace the Age with a list containing age and profession\n",
        "for member,age in family.items():\n",
        "  age= family_age_profession\n",
        "  family['age']=age\n",
        "  print(age)\n",
        "## Task 2.4 (Optional): Replace each first name by adding a radom last name\n",
        "\n"
      ],
      "metadata": {
        "id": "k2Fgs1ceXpup",
        "colab": {
          "base_uri": "https://localhost:8080/",
          "height": 276
        },
        "outputId": "47b56169-0bca-41bc-b788-5a0d62109a1e"
      },
      "execution_count": 95,
      "outputs": [
        {
          "output_type": "stream",
          "name": "stdout",
          "text": [
            "The sum of all the ages in the dictionary is: 191\n",
            "{60: 'author', 19: 'student', 52: 'doctor', 23: 'nurse', 37: 'engineer'}\n"
          ]
        },
        {
          "output_type": "error",
          "ename": "RuntimeError",
          "evalue": "ignored",
          "traceback": [
            "\u001b[0;31m---------------------------------------------------------------------------\u001b[0m",
            "\u001b[0;31mRuntimeError\u001b[0m                              Traceback (most recent call last)",
            "\u001b[0;32m<ipython-input-95-e99bf571e190>\u001b[0m in \u001b[0;36m<module>\u001b[0;34m\u001b[0m\n\u001b[1;32m      8\u001b[0m \u001b[0;34m\u001b[0m\u001b[0m\n\u001b[1;32m      9\u001b[0m \u001b[0;31m## Task 2.3 (Optional): Replace the Age with a list containing age and profession\u001b[0m\u001b[0;34m\u001b[0m\u001b[0;34m\u001b[0m\u001b[0;34m\u001b[0m\u001b[0m\n\u001b[0;32m---> 10\u001b[0;31m \u001b[0;32mfor\u001b[0m \u001b[0mmember\u001b[0m\u001b[0;34m,\u001b[0m\u001b[0mage\u001b[0m \u001b[0;32min\u001b[0m \u001b[0mfamily\u001b[0m\u001b[0;34m.\u001b[0m\u001b[0mitems\u001b[0m\u001b[0;34m(\u001b[0m\u001b[0;34m)\u001b[0m\u001b[0;34m:\u001b[0m\u001b[0;34m\u001b[0m\u001b[0;34m\u001b[0m\u001b[0m\n\u001b[0m\u001b[1;32m     11\u001b[0m   \u001b[0mage\u001b[0m\u001b[0;34m=\u001b[0m \u001b[0mfamily_age_profession\u001b[0m\u001b[0;34m\u001b[0m\u001b[0;34m\u001b[0m\u001b[0m\n\u001b[1;32m     12\u001b[0m   \u001b[0mfamily\u001b[0m\u001b[0;34m[\u001b[0m\u001b[0;34m'age'\u001b[0m\u001b[0;34m]\u001b[0m\u001b[0;34m=\u001b[0m\u001b[0mage\u001b[0m\u001b[0;34m\u001b[0m\u001b[0;34m\u001b[0m\u001b[0m\n",
            "\u001b[0;31mRuntimeError\u001b[0m: dictionary changed size during iteration"
          ]
        }
      ]
    },
    {
      "cell_type": "code",
      "source": [
        "## Task 3: Functions and what they can access from a distance\n",
        "\n",
        "### Task 3.1: Functions and simple data types\n",
        "\n",
        "##\n",
        "#  The Python King (P) has set up a contest to examine the psychic abilities of \n",
        "# the functions in his domain, he has set string and wants you to examine whether you \n",
        "# can create a function that edits the string if passed to it as an argument\n",
        "# Try it and report if it is possible to do so without having the function return \n",
        "# anything?\n",
        "\n",
        "experiment_string = \"I am a string, a subject of the Python King (P) and am unedited\"\n",
        "\n",
        "def your_function(experiment_string):\n",
        "    # Your code to edit the string here\n",
        "    \n",
        "    #Keep the return unedited\n",
        "    return None\n",
        "\n",
        "print(experiment_string) # will it be different or will it be the same?\n",
        "## Task 3.2: Functions and composite data structures\n",
        "\n",
        "# The Python King (P) wants to repeat the experiment with some of his composite\n",
        "# datastructures. The Python King has selected a list from amongst his subjects\n",
        "# and wants you to pass it as an argument to a function you create and attempt \n",
        "\n",
        "experiment_list = [\"Huh !\", \"I\", \"Bet\", \"You\", \"Can't\", \"Edit\", \"Me\", \\\n",
        "                   \"Long live the Python King !\"]\n",
        "\n",
        "def your_other_function(experiment_list):\n",
        "    # Your code to edit the list here\n",
        "    \n",
        "    #Keep the return unedited\n",
        "    return None\n",
        "\n",
        "your_other_function(experiment_list)\n",
        "\n",
        "print(experiment_list) # will it be different or will it be the same?\n"
      ],
      "metadata": {
        "id": "rhKz7secxQZu"
      },
      "execution_count": null,
      "outputs": []
    },
    {
      "cell_type": "code",
      "source": [
        "## Task 4:Argparse \n",
        "# Argparse is used when running a program from the command line like these old \n",
        "# DOS programs. Like this:\n",
        "# python program_to_make_free_money.py --money-wanted 1000000\n",
        "# How such arguments are passed to a python program can be done with argparse\n",
        "# How does argparse work? ? ? \n",
        "# Well with argparse we need to create a separate python file and run it \n",
        "# Thankfully we can run command line programs in here as well\n",
        "# if we add a ! like so:\n",
        "# !python program_to_make_free_money.py --money-wanted 1000000\n"
      ],
      "metadata": {
        "id": "KAOm9SH20n6R"
      },
      "execution_count": null,
      "outputs": []
    }
  ]
}